{
 "cells": [
  {
   "cell_type": "code",
   "execution_count": 45,
   "metadata": {},
   "outputs": [],
   "source": [
    "import pandas as pd\n",
    "import matplotlib.pyplot as plt\n",
    "\n",
    "from sklearn.preprocessing import StandardScaler\n",
    "from sklearn.metrics import r2_score\n",
    "from sklearn.model_selection import train_test_split\n",
    "\n",
    "\n",
    "from sklearn.linear_model import Lasso\n",
    "from sklearn.neighbors import KNeighborsRegressor\n",
    "from sklearn.svm import SVR\n",
    "from sklearn.tree import DecisionTreeRegressor\n",
    "\n",
    "from sklearn.model_selection import GridSearchCV"
   ]
  },
  {
   "cell_type": "markdown",
   "metadata": {},
   "source": [
    "### Read data"
   ]
  },
  {
   "cell_type": "code",
   "execution_count": 46,
   "metadata": {
    "scrolled": false
   },
   "outputs": [
    {
     "data": {
      "text/html": [
       "<div>\n",
       "<style scoped>\n",
       "    .dataframe tbody tr th:only-of-type {\n",
       "        vertical-align: middle;\n",
       "    }\n",
       "\n",
       "    .dataframe tbody tr th {\n",
       "        vertical-align: top;\n",
       "    }\n",
       "\n",
       "    .dataframe thead th {\n",
       "        text-align: right;\n",
       "    }\n",
       "</style>\n",
       "<table border=\"1\" class=\"dataframe\">\n",
       "  <thead>\n",
       "    <tr style=\"text-align: right;\">\n",
       "      <th></th>\n",
       "      <th>mpg</th>\n",
       "      <th>cylinders</th>\n",
       "      <th>displacement</th>\n",
       "      <th>horsepower</th>\n",
       "      <th>weight</th>\n",
       "      <th>acceleration</th>\n",
       "      <th>age</th>\n",
       "    </tr>\n",
       "  </thead>\n",
       "  <tbody>\n",
       "    <tr>\n",
       "      <td>0</td>\n",
       "      <td>18.0</td>\n",
       "      <td>8</td>\n",
       "      <td>307.0</td>\n",
       "      <td>130</td>\n",
       "      <td>3504</td>\n",
       "      <td>12.0</td>\n",
       "      <td>49</td>\n",
       "    </tr>\n",
       "    <tr>\n",
       "      <td>1</td>\n",
       "      <td>15.0</td>\n",
       "      <td>8</td>\n",
       "      <td>350.0</td>\n",
       "      <td>165</td>\n",
       "      <td>3693</td>\n",
       "      <td>11.5</td>\n",
       "      <td>49</td>\n",
       "    </tr>\n",
       "    <tr>\n",
       "      <td>2</td>\n",
       "      <td>18.0</td>\n",
       "      <td>8</td>\n",
       "      <td>318.0</td>\n",
       "      <td>150</td>\n",
       "      <td>3436</td>\n",
       "      <td>11.0</td>\n",
       "      <td>49</td>\n",
       "    </tr>\n",
       "    <tr>\n",
       "      <td>3</td>\n",
       "      <td>16.0</td>\n",
       "      <td>8</td>\n",
       "      <td>304.0</td>\n",
       "      <td>150</td>\n",
       "      <td>3433</td>\n",
       "      <td>12.0</td>\n",
       "      <td>49</td>\n",
       "    </tr>\n",
       "    <tr>\n",
       "      <td>4</td>\n",
       "      <td>17.0</td>\n",
       "      <td>8</td>\n",
       "      <td>302.0</td>\n",
       "      <td>140</td>\n",
       "      <td>3449</td>\n",
       "      <td>10.5</td>\n",
       "      <td>49</td>\n",
       "    </tr>\n",
       "  </tbody>\n",
       "</table>\n",
       "</div>"
      ],
      "text/plain": [
       "    mpg  cylinders  displacement  horsepower  weight  acceleration  age\n",
       "0  18.0          8         307.0         130    3504          12.0   49\n",
       "1  15.0          8         350.0         165    3693          11.5   49\n",
       "2  18.0          8         318.0         150    3436          11.0   49\n",
       "3  16.0          8         304.0         150    3433          12.0   49\n",
       "4  17.0          8         302.0         140    3449          10.5   49"
      ]
     },
     "execution_count": 46,
     "metadata": {},
     "output_type": "execute_result"
    }
   ],
   "source": [
    "auto_df = pd.read_csv(\"./auto-mpg-processed.csv\")\n",
    "auto_df.head()"
   ]
  },
  {
   "cell_type": "markdown",
   "metadata": {},
   "source": [
    "### Compare results array"
   ]
  },
  {
   "cell_type": "code",
   "execution_count": 47,
   "metadata": {},
   "outputs": [],
   "source": [
    "compare_results = []"
   ]
  },
  {
   "cell_type": "markdown",
   "metadata": {},
   "source": [
    "### Split data"
   ]
  },
  {
   "cell_type": "code",
   "execution_count": 48,
   "metadata": {},
   "outputs": [],
   "source": [
    "X = auto_df.drop([\"mpg\", \"age\"], axis=1)\n",
    "Y= auto_df[\"mpg\"]\n",
    "\n",
    "x_train, x_test, y_train, y_test = train_test_split(X, Y, test_size=0.2)"
   ]
  },
  {
   "cell_type": "markdown",
   "metadata": {},
   "source": [
    "## Lasso regression"
   ]
  },
  {
   "cell_type": "markdown",
   "metadata": {},
   "source": [
    "### Tune alpha param"
   ]
  },
  {
   "cell_type": "code",
   "execution_count": 49,
   "metadata": {},
   "outputs": [
    {
     "data": {
      "text/plain": [
       "{'alpha': 1.0}"
      ]
     },
     "execution_count": 49,
     "metadata": {},
     "output_type": "execute_result"
    }
   ],
   "source": [
    "params = {\"alpha\":[0.2, 0.4, 0.6, 0.8, 0.9, 1.0]}\n",
    "gridsearchA = GridSearchCV(Lasso(), params, cv=3, return_train_score=True)\n",
    "gridsearchA.fit(x_train, y_train)\n",
    "gridsearchA.best_params_"
   ]
  },
  {
   "cell_type": "markdown",
   "metadata": {},
   "source": [
    "### results of each alpha value and their rank"
   ]
  },
  {
   "cell_type": "code",
   "execution_count": 50,
   "metadata": {
    "scrolled": true
   },
   "outputs": [
    {
     "name": "stdout",
     "output_type": "stream",
     "text": [
      "Param {'alpha': 0.2}\n",
      "Rank 6\n",
      "Test result 0.683468895940368\n",
      "Param {'alpha': 0.4}\n",
      "Rank 5\n",
      "Test result 0.6876546425753021\n",
      "Param {'alpha': 0.6}\n",
      "Rank 4\n",
      "Test result 0.6886645801362363\n",
      "Param {'alpha': 0.8}\n",
      "Rank 3\n",
      "Test result 0.6889861145665007\n",
      "Param {'alpha': 0.9}\n",
      "Rank 2\n",
      "Test result 0.6891428001624516\n",
      "Param {'alpha': 1.0}\n",
      "Rank 1\n",
      "Test result 0.6892983085822174\n"
     ]
    }
   ],
   "source": [
    "for i in range(len(params[\"alpha\"])):\n",
    "    print(\"Param\", gridsearchA.cv_results_[\"params\"][i])\n",
    "    print(\"Rank\", gridsearchA.cv_results_[\"rank_test_score\"][i])\n",
    "    print(\"Test result\", gridsearchA.cv_results_[\"mean_test_score\"][i])"
   ]
  },
  {
   "cell_type": "markdown",
   "metadata": {},
   "source": [
    "### Train model"
   ]
  },
  {
   "cell_type": "code",
   "execution_count": 51,
   "metadata": {},
   "outputs": [],
   "source": [
    "lasso_regression = Lasso(alpha = gridsearchA.best_params_[\"alpha\"])\n",
    "lasso_regression.fit(x_train, y_train)\n",
    "\n",
    "y_pred = lasso_regression.predict(x_test)\n",
    "\n",
    "result = {\n",
    "    \"lasso_train_score\": lasso_regression.score(x_train, y_train),\n",
    "    \"lasso_test_score\": r2_score(y_test, y_pred)\n",
    "}\n",
    "\n",
    "compare_results.append(result)"
   ]
  },
  {
   "cell_type": "markdown",
   "metadata": {},
   "source": [
    "## K-NN model"
   ]
  },
  {
   "cell_type": "markdown",
   "metadata": {},
   "source": [
    "### Tune n_neighbors param"
   ]
  },
  {
   "cell_type": "code",
   "execution_count": 52,
   "metadata": {},
   "outputs": [
    {
     "name": "stderr",
     "output_type": "stream",
     "text": [
      "C:\\Users\\u721272\\AppData\\Local\\Continuum\\anaconda3\\lib\\site-packages\\sklearn\\model_selection\\_search.py:814: DeprecationWarning: The default of the `iid` parameter will change from True to False in version 0.22 and will be removed in 0.24. This will change numeric results when test-set sizes are unequal.\n",
      "  DeprecationWarning)\n"
     ]
    },
    {
     "data": {
      "text/plain": [
       "{'n_neighbors': 40}"
      ]
     },
     "execution_count": 52,
     "metadata": {},
     "output_type": "execute_result"
    }
   ],
   "source": [
    "params = {\"n_neighbors\":[5, 10, 12, 15, 17, 20, 25, 30, 40]}\n",
    "\n",
    "gridSearchK = GridSearchCV(KNeighborsRegressor(), params, cv=3, return_train_score=True)\n",
    "gridSearchK.fit(x_train, y_train)\n",
    "gridSearchK.best_params_"
   ]
  },
  {
   "cell_type": "markdown",
   "metadata": {},
   "source": [
    "### Train model"
   ]
  },
  {
   "cell_type": "code",
   "execution_count": 53,
   "metadata": {},
   "outputs": [],
   "source": [
    "knn_regression = KNeighborsRegressor(n_neighbors=gridSearchK.best_params_[\"n_neighbors\"])\n",
    "knn_regression.fit(x_train, y_train)\n",
    "\n",
    "y_pred = knn_regression.predict(x_test)\n",
    "\n",
    "result = {\n",
    "    \"knn_train_score\": knn_regression.score(x_train, y_train),\n",
    "    \"knn_test_score\": r2_score(y_test, y_pred)\n",
    "}\n",
    "\n",
    "compare_results.append(result)"
   ]
  },
  {
   "cell_type": "markdown",
   "metadata": {},
   "source": [
    "## Decision tree model"
   ]
  },
  {
   "cell_type": "markdown",
   "metadata": {},
   "source": [
    "### Tune depth param"
   ]
  },
  {
   "cell_type": "code",
   "execution_count": 54,
   "metadata": {},
   "outputs": [
    {
     "name": "stderr",
     "output_type": "stream",
     "text": [
      "C:\\Users\\u721272\\AppData\\Local\\Continuum\\anaconda3\\lib\\site-packages\\sklearn\\model_selection\\_search.py:814: DeprecationWarning: The default of the `iid` parameter will change from True to False in version 0.22 and will be removed in 0.24. This will change numeric results when test-set sizes are unequal.\n",
      "  DeprecationWarning)\n"
     ]
    },
    {
     "data": {
      "text/plain": [
       "{'max_depth': 2}"
      ]
     },
     "execution_count": 54,
     "metadata": {},
     "output_type": "execute_result"
    }
   ],
   "source": [
    "params = {\"max_depth\":[1, 2, 3, 4, 5, 6]}\n",
    "gridsearchD = GridSearchCV(DecisionTreeRegressor(), params, cv=3, return_train_score=True)\n",
    "gridsearchD.fit(x_train, y_train)\n",
    "\n",
    "gridsearchD.best_params_"
   ]
  },
  {
   "cell_type": "markdown",
   "metadata": {},
   "source": [
    "### Train model"
   ]
  },
  {
   "cell_type": "code",
   "execution_count": 55,
   "metadata": {},
   "outputs": [],
   "source": [
    "d_tree = DecisionTreeRegressor(max_depth=gridsearchD.best_params_[\"max_depth\"])\n",
    "d_tree.fit(x_train, y_train)\n",
    "\n",
    "y_pred = d_tree.predict(x_test)\n",
    "\n",
    "result = {\n",
    "    \"decision_tree_train_score\": d_tree.score(x_train, y_train),\n",
    "    \"decision_tree_test_score\": r2_score(y_test, y_pred)\n",
    "}\n",
    "\n",
    "compare_results.append(result)"
   ]
  },
  {
   "cell_type": "code",
   "execution_count": 56,
   "metadata": {},
   "outputs": [
    {
     "data": {
      "text/plain": [
       "[{'lasso_train_score': 0.7067193209777726,\n",
       "  'lasso_test_score': 0.7017008167974965},\n",
       " {'knn_train_score': 0.7305230220980674, 'knn_test_score': 0.7028050471122513},\n",
       " {'decision_tree_train_score': 0.7325588560140855,\n",
       "  'decision_tree_test_score': 0.7018519810488555}]"
      ]
     },
     "execution_count": 56,
     "metadata": {},
     "output_type": "execute_result"
    }
   ],
   "source": [
    "compare_results"
   ]
  }
 ],
 "metadata": {
  "kernelspec": {
   "display_name": "Python 3",
   "language": "python",
   "name": "python3"
  },
  "language_info": {
   "codemirror_mode": {
    "name": "ipython",
    "version": 3
   },
   "file_extension": ".py",
   "mimetype": "text/x-python",
   "name": "python",
   "nbconvert_exporter": "python",
   "pygments_lexer": "ipython3",
   "version": "3.7.4"
  }
 },
 "nbformat": 4,
 "nbformat_minor": 2
}
